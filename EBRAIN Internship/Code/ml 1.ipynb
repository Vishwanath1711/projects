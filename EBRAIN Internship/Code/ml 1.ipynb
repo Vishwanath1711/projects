{
 "cells": [
  {
   "cell_type": "code",
   "execution_count": 1,
   "metadata": {},
   "outputs": [],
   "source": [
    "import numpy as np\n",
    "import pandas as pd\n",
    "import matplotlib.pyplot as plt\n",
    "import seaborn as sns\n",
    "from matplotlib import gridspec\n",
    "%matplotlib inline\n",
    "\n",
    "import warnings\n",
    "warnings.filterwarnings(\"ignore\")"
   ]
  },
  {
   "cell_type": "code",
   "execution_count": 2,
   "metadata": {
    "scrolled": true
   },
   "outputs": [
    {
     "data": {
      "text/html": [
       "<div>\n",
       "<style scoped>\n",
       "    .dataframe tbody tr th:only-of-type {\n",
       "        vertical-align: middle;\n",
       "    }\n",
       "\n",
       "    .dataframe tbody tr th {\n",
       "        vertical-align: top;\n",
       "    }\n",
       "\n",
       "    .dataframe thead th {\n",
       "        text-align: right;\n",
       "    }\n",
       "</style>\n",
       "<table border=\"1\" class=\"dataframe\">\n",
       "  <thead>\n",
       "    <tr style=\"text-align: right;\">\n",
       "      <th></th>\n",
       "      <th>Time</th>\n",
       "      <th>V1</th>\n",
       "      <th>V2</th>\n",
       "      <th>V3</th>\n",
       "      <th>V4</th>\n",
       "      <th>V5</th>\n",
       "      <th>V6</th>\n",
       "      <th>V7</th>\n",
       "      <th>V8</th>\n",
       "      <th>V9</th>\n",
       "      <th>...</th>\n",
       "      <th>V21</th>\n",
       "      <th>V22</th>\n",
       "      <th>V23</th>\n",
       "      <th>V24</th>\n",
       "      <th>V25</th>\n",
       "      <th>V26</th>\n",
       "      <th>V27</th>\n",
       "      <th>V28</th>\n",
       "      <th>Amount</th>\n",
       "      <th>Class</th>\n",
       "    </tr>\n",
       "  </thead>\n",
       "  <tbody>\n",
       "    <tr>\n",
       "      <th>0</th>\n",
       "      <td>0.0</td>\n",
       "      <td>-1.359807</td>\n",
       "      <td>-0.072781</td>\n",
       "      <td>2.536347</td>\n",
       "      <td>1.378155</td>\n",
       "      <td>-0.338321</td>\n",
       "      <td>0.462388</td>\n",
       "      <td>0.239599</td>\n",
       "      <td>0.098698</td>\n",
       "      <td>0.363787</td>\n",
       "      <td>...</td>\n",
       "      <td>-0.018307</td>\n",
       "      <td>0.277838</td>\n",
       "      <td>-0.110474</td>\n",
       "      <td>0.066928</td>\n",
       "      <td>0.128539</td>\n",
       "      <td>-0.189115</td>\n",
       "      <td>0.133558</td>\n",
       "      <td>-0.021053</td>\n",
       "      <td>149.62</td>\n",
       "      <td>0</td>\n",
       "    </tr>\n",
       "    <tr>\n",
       "      <th>1</th>\n",
       "      <td>0.0</td>\n",
       "      <td>1.191857</td>\n",
       "      <td>0.266151</td>\n",
       "      <td>0.166480</td>\n",
       "      <td>0.448154</td>\n",
       "      <td>0.060018</td>\n",
       "      <td>-0.082361</td>\n",
       "      <td>-0.078803</td>\n",
       "      <td>0.085102</td>\n",
       "      <td>-0.255425</td>\n",
       "      <td>...</td>\n",
       "      <td>-0.225775</td>\n",
       "      <td>-0.638672</td>\n",
       "      <td>0.101288</td>\n",
       "      <td>-0.339846</td>\n",
       "      <td>0.167170</td>\n",
       "      <td>0.125895</td>\n",
       "      <td>-0.008983</td>\n",
       "      <td>0.014724</td>\n",
       "      <td>2.69</td>\n",
       "      <td>0</td>\n",
       "    </tr>\n",
       "    <tr>\n",
       "      <th>2</th>\n",
       "      <td>1.0</td>\n",
       "      <td>-1.358354</td>\n",
       "      <td>-1.340163</td>\n",
       "      <td>1.773209</td>\n",
       "      <td>0.379780</td>\n",
       "      <td>-0.503198</td>\n",
       "      <td>1.800499</td>\n",
       "      <td>0.791461</td>\n",
       "      <td>0.247676</td>\n",
       "      <td>-1.514654</td>\n",
       "      <td>...</td>\n",
       "      <td>0.247998</td>\n",
       "      <td>0.771679</td>\n",
       "      <td>0.909412</td>\n",
       "      <td>-0.689281</td>\n",
       "      <td>-0.327642</td>\n",
       "      <td>-0.139097</td>\n",
       "      <td>-0.055353</td>\n",
       "      <td>-0.059752</td>\n",
       "      <td>378.66</td>\n",
       "      <td>0</td>\n",
       "    </tr>\n",
       "    <tr>\n",
       "      <th>3</th>\n",
       "      <td>1.0</td>\n",
       "      <td>-0.966272</td>\n",
       "      <td>-0.185226</td>\n",
       "      <td>1.792993</td>\n",
       "      <td>-0.863291</td>\n",
       "      <td>-0.010309</td>\n",
       "      <td>1.247203</td>\n",
       "      <td>0.237609</td>\n",
       "      <td>0.377436</td>\n",
       "      <td>-1.387024</td>\n",
       "      <td>...</td>\n",
       "      <td>-0.108300</td>\n",
       "      <td>0.005274</td>\n",
       "      <td>-0.190321</td>\n",
       "      <td>-1.175575</td>\n",
       "      <td>0.647376</td>\n",
       "      <td>-0.221929</td>\n",
       "      <td>0.062723</td>\n",
       "      <td>0.061458</td>\n",
       "      <td>123.50</td>\n",
       "      <td>0</td>\n",
       "    </tr>\n",
       "    <tr>\n",
       "      <th>4</th>\n",
       "      <td>2.0</td>\n",
       "      <td>-1.158233</td>\n",
       "      <td>0.877737</td>\n",
       "      <td>1.548718</td>\n",
       "      <td>0.403034</td>\n",
       "      <td>-0.407193</td>\n",
       "      <td>0.095921</td>\n",
       "      <td>0.592941</td>\n",
       "      <td>-0.270533</td>\n",
       "      <td>0.817739</td>\n",
       "      <td>...</td>\n",
       "      <td>-0.009431</td>\n",
       "      <td>0.798278</td>\n",
       "      <td>-0.137458</td>\n",
       "      <td>0.141267</td>\n",
       "      <td>-0.206010</td>\n",
       "      <td>0.502292</td>\n",
       "      <td>0.219422</td>\n",
       "      <td>0.215153</td>\n",
       "      <td>69.99</td>\n",
       "      <td>0</td>\n",
       "    </tr>\n",
       "  </tbody>\n",
       "</table>\n",
       "<p>5 rows × 31 columns</p>\n",
       "</div>"
      ],
      "text/plain": [
       "   Time        V1        V2        V3        V4        V5        V6        V7  \\\n",
       "0   0.0 -1.359807 -0.072781  2.536347  1.378155 -0.338321  0.462388  0.239599   \n",
       "1   0.0  1.191857  0.266151  0.166480  0.448154  0.060018 -0.082361 -0.078803   \n",
       "2   1.0 -1.358354 -1.340163  1.773209  0.379780 -0.503198  1.800499  0.791461   \n",
       "3   1.0 -0.966272 -0.185226  1.792993 -0.863291 -0.010309  1.247203  0.237609   \n",
       "4   2.0 -1.158233  0.877737  1.548718  0.403034 -0.407193  0.095921  0.592941   \n",
       "\n",
       "         V8        V9  ...       V21       V22       V23       V24       V25  \\\n",
       "0  0.098698  0.363787  ... -0.018307  0.277838 -0.110474  0.066928  0.128539   \n",
       "1  0.085102 -0.255425  ... -0.225775 -0.638672  0.101288 -0.339846  0.167170   \n",
       "2  0.247676 -1.514654  ...  0.247998  0.771679  0.909412 -0.689281 -0.327642   \n",
       "3  0.377436 -1.387024  ... -0.108300  0.005274 -0.190321 -1.175575  0.647376   \n",
       "4 -0.270533  0.817739  ... -0.009431  0.798278 -0.137458  0.141267 -0.206010   \n",
       "\n",
       "        V26       V27       V28  Amount  Class  \n",
       "0 -0.189115  0.133558 -0.021053  149.62      0  \n",
       "1  0.125895 -0.008983  0.014724    2.69      0  \n",
       "2 -0.139097 -0.055353 -0.059752  378.66      0  \n",
       "3 -0.221929  0.062723  0.061458  123.50      0  \n",
       "4  0.502292  0.219422  0.215153   69.99      0  \n",
       "\n",
       "[5 rows x 31 columns]"
      ]
     },
     "execution_count": 2,
     "metadata": {},
     "output_type": "execute_result"
    }
   ],
   "source": [
    "df = pd.read_csv('creditcard.csv')\n",
    "df.head()#data frame"
   ]
  },
  {
   "cell_type": "code",
   "execution_count": 3,
   "metadata": {},
   "outputs": [
    {
     "data": {
      "text/plain": [
       "0    284315\n",
       "1       492\n",
       "Name: Class, dtype: int64"
      ]
     },
     "execution_count": 3,
     "metadata": {},
     "output_type": "execute_result"
    }
   ],
   "source": [
    "df.Class.value_counts()"
   ]
  },
  {
   "cell_type": "code",
   "execution_count": 4,
   "metadata": {},
   "outputs": [
    {
     "data": {
      "text/plain": [
       "Text(0.5, 1.0, 'Amount distribution')"
      ]
     },
     "execution_count": 4,
     "metadata": {},
     "output_type": "execute_result"
    },
    {
     "data": {
      "image/png": "[encoded data removed]",
      "text/plain": [
       "<Figure size 432x288 with 1 Axes>"
      ]
     },
     "metadata": {
      "needs_background": "light"
     },
     "output_type": "display_data"
    }
   ],
   "source": [
    "sns.distplot(df.Amount, bins=1000)\n",
    "plt.xlim(0,1000)\n",
    "plt.title('Amount distribution')"
   ]
  },
  {
   "cell_type": "code",
   "execution_count": 5,
   "metadata": {},
   "outputs": [
    {
     "name": "stdout",
     "output_type": "stream",
     "text": [
      "(28481, 31)\n",
      "                Time            V1            V2            V3            V4  \\\n",
      "count   28481.000000  28481.000000  28481.000000  28481.000000  28481.000000   \n",
      "mean    94303.978126      0.000084     -0.007061      0.013951     -0.009899   \n",
      "std     47450.510233      1.939031      1.619107      1.520114      1.408995   \n",
      "min         0.000000    -40.470142    -38.430842    -31.103685     -4.897347   \n",
      "25%     53923.000000     -0.923893     -0.605220     -0.873069     -0.857457   \n",
      "50%     83955.000000      0.005146      0.056073      0.199804     -0.030054   \n",
      "75%    138785.000000      1.310402      0.797713      1.037859      0.728976   \n",
      "max    172788.000000      2.446505     16.713389      3.934537     12.114672   \n",
      "\n",
      "                 V5            V6            V7            V8            V9  \\\n",
      "count  28481.000000  28481.000000  28481.000000  28481.000000  28481.000000   \n",
      "mean       0.000024     -0.000812     -0.006474     -0.001324     -0.001497   \n",
      "std        1.352572      1.322328      1.183975      1.205769      1.093588   \n",
      "min      -25.025820    -23.496714    -28.011293    -38.751525     -8.960922   \n",
      "25%       -0.693905     -0.766712     -0.549531     -0.206978     -0.645238   \n",
      "50%       -0.059123     -0.274496      0.039802      0.023232     -0.053738   \n",
      "75%        0.613238      0.398508      0.566610      0.331188      0.597773   \n",
      "max       34.099309     16.355534     24.664527     20.007208      9.234623   \n",
      "\n",
      "       ...           V21           V22           V23           V24  \\\n",
      "count  ...  28481.000000  28481.000000  28481.000000  28481.000000   \n",
      "mean   ...      0.005671     -0.004059     -0.003998      0.004771   \n",
      "std    ...      0.728019      0.729095      0.650767      0.606139   \n",
      "min    ...    -18.458144     -6.152177    -44.807735     -2.814898   \n",
      "25%    ...     -0.226879     -0.540882     -0.163337     -0.351306   \n",
      "50%    ...     -0.030813      0.003482     -0.010751      0.043446   \n",
      "75%    ...      0.187999      0.531149      0.148103      0.439801   \n",
      "max    ...     15.904677      7.057496     19.002942      3.957013   \n",
      "\n",
      "                V25           V26           V27           V28        Amount  \\\n",
      "count  28481.000000  28481.000000  28481.000000  28481.000000  28481.000000   \n",
      "mean       0.000166      0.001163      0.003692      0.002563     88.577751   \n",
      "std        0.522213      0.482634      0.376358      0.296151    234.110331   \n",
      "min      -10.295397     -1.653193     -7.764147     -8.338123      0.000000   \n",
      "25%       -0.316753     -0.324297     -0.070970     -0.052413      5.950000   \n",
      "50%        0.019872     -0.051665      0.001518      0.011503     21.990000   \n",
      "75%        0.349295      0.241840      0.090981      0.077893     77.010000   \n",
      "max        4.513681      3.119295      8.254376     15.632689   6000.000000   \n",
      "\n",
      "              Class  \n",
      "count  28481.000000  \n",
      "mean       0.001966  \n",
      "std        0.044299  \n",
      "min        0.000000  \n",
      "25%        0.000000  \n",
      "50%        0.000000  \n",
      "75%        0.000000  \n",
      "max        1.000000  \n",
      "\n",
      "[8 rows x 31 columns]\n"
     ]
    }
   ],
   "source": [
    "df= df.sample(frac=0.1, random_state = 48)\n",
    "print(df.shape)\n",
    "print(df.describe())"
   ]
  },
  {
   "cell_type": "code",
   "execution_count": 6,
   "metadata": {},
   "outputs": [],
   "source": [
    "from sklearn.model_selection import train_test_split\n",
    "from sklearn.model_selection import cross_val_predict\n",
    "from sklearn.model_selection import cross_val_score\n",
    "from sklearn.linear_model import LogisticRegression"
   ]
  },
  {
   "cell_type": "code",
   "execution_count": 7,
   "metadata": {},
   "outputs": [],
   "source": [
    "y = df.Class\n",
    "X = df.drop('Class', axis=1)\n",
    "\n",
    "X_train, X_test, y_train, y_test = train_test_split(X, y, test_size=0.33)\n",
    "Lrc = LogisticRegression().fit(X_train, y_train)"
   ]
  },
  {
   "cell_type": "code",
   "execution_count": 8,
   "metadata": {},
   "outputs": [
    {
     "data": {
      "text/plain": [
       "array([0.998245  , 0.99964888, 0.99964888, 0.99894663, 0.99894663,\n",
       "       0.99894663, 1.        , 0.99964888, 1.        , 0.99964888])"
      ]
     },
     "execution_count": 8,
     "metadata": {},
     "output_type": "execute_result"
    }
   ],
   "source": [
    "cross_val_score(Lrc, X, y, cv= 10)"
   ]
  },
  {
   "cell_type": "code",
   "execution_count": 9,
   "metadata": {},
   "outputs": [],
   "source": [
    "from sklearn.metrics import classification_report,confusion_matrix"
   ]
  },
  {
   "cell_type": "code",
   "execution_count": 10,
   "metadata": {},
   "outputs": [
    {
     "data": {
      "text/plain": [
       "array([[-1.27141015e-04,  3.16388135e-01, -2.77775392e-01,\n",
       "        -1.03749129e+00,  2.82139889e-01, -1.21975771e-01,\n",
       "        -2.14167701e-02, -2.48838625e-01,  2.15122460e-02,\n",
       "        -6.63110112e-01, -5.48693838e-01,  1.03633939e-01,\n",
       "        -3.79468376e-01, -3.75519393e-01, -1.49967306e+00,\n",
       "        -1.63128001e-01, -7.52981186e-01, -1.25529820e+00,\n",
       "        -3.24297807e-01,  1.37987640e-01,  8.64663843e-02,\n",
       "         3.09777473e-01,  1.53902077e-01, -3.97948803e-03,\n",
       "        -3.20075989e-02, -7.31138525e-02,  5.57999930e-02,\n",
       "        -2.88462436e-02,  8.86812624e-02, -1.01181946e-02]])"
      ]
     },
     "execution_count": 10,
     "metadata": {},
     "output_type": "execute_result"
    }
   ],
   "source": [
    "Lrc.coef_   #conveys which parameter is  more important"
   ]
  },
  {
   "cell_type": "code",
   "execution_count": 11,
   "metadata": {},
   "outputs": [],
   "source": [
    "lr_pred = Lrc.predict(X_test)"
   ]
  },
  {
   "cell_type": "code",
   "execution_count": 12,
   "metadata": {},
   "outputs": [
    {
     "name": "stdout",
     "output_type": "stream",
     "text": [
      "[[9375    7]\n",
      " [   1   16]]\n",
      "\n",
      "\n",
      "              precision    recall  f1-score   support\n",
      "\n",
      "           0       1.00      1.00      1.00      9382\n",
      "           1       0.70      0.94      0.80        17\n",
      "\n",
      "    accuracy                           1.00      9399\n",
      "   macro avg       0.85      0.97      0.90      9399\n",
      "weighted avg       1.00      1.00      1.00      9399\n",
      "\n"
     ]
    }
   ],
   "source": [
    "print(confusion_matrix(y_test, lr_pred))\n",
    "print('\\n')\n",
    "print(classification_report(y_test, lr_pred))"
   ]
  },
  {
   "cell_type": "code",
   "execution_count": 13,
   "metadata": {},
   "outputs": [],
   "source": [
    "from sklearn.ensemble import RandomForestClassifier"
   ]
  },
  {
   "cell_type": "code",
   "execution_count": 14,
   "metadata": {},
   "outputs": [],
   "source": [
    "y = df.Class\n",
    "X = df.drop('Class', axis=1)"
   ]
  },
  {
   "cell_type": "code",
   "execution_count": 15,
   "metadata": {},
   "outputs": [],
   "source": [
    "X_train, X_test, y_train, y_test = train_test_split(X, y, test_size=0.33)"
   ]
  },
  {
   "cell_type": "code",
   "execution_count": 16,
   "metadata": {},
   "outputs": [
    {
     "data": {
      "text/plain": [
       "RandomForestClassifier()"
      ]
     },
     "execution_count": 16,
     "metadata": {},
     "output_type": "execute_result"
    }
   ],
   "source": [
    "Rfc = RandomForestClassifier()\n",
    "Rfc.fit(X_train, y_train)"
   ]
  },
  {
   "cell_type": "code",
   "execution_count": 17,
   "metadata": {},
   "outputs": [
    {
     "data": {
      "text/plain": [
       "array([0.998947  , 0.99964888, 0.99964888, 0.99964888, 0.99964888,\n",
       "       0.99964888, 0.99964888, 0.99964888, 1.        , 0.99964888])"
      ]
     },
     "execution_count": 17,
     "metadata": {},
     "output_type": "execute_result"
    }
   ],
   "source": [
    "cross_val_score(Rfc.fit(X_train, y_train), X, y, cv= 10)"
   ]
  },
  {
   "cell_type": "code",
   "execution_count": 19,
   "metadata": {},
   "outputs": [],
   "source": [
    "rf_pred = Rfc.predict(X_test)"
   ]
  },
  {
   "cell_type": "code",
   "execution_count": 20,
   "metadata": {},
   "outputs": [
    {
     "name": "stdout",
     "output_type": "stream",
     "text": [
      "[[9377    0]\n",
      " [   3   19]]\n",
      "\n",
      "\n",
      "              precision    recall  f1-score   support\n",
      "\n",
      "           0       1.00      1.00      1.00      9377\n",
      "           1       1.00      0.86      0.93        22\n",
      "\n",
      "    accuracy                           1.00      9399\n",
      "   macro avg       1.00      0.93      0.96      9399\n",
      "weighted avg       1.00      1.00      1.00      9399\n",
      "\n"
     ]
    }
   ],
   "source": [
    "lr_pred = Rfc.predict(X_test)\n",
    "print(confusion_matrix(y_test, rf_pred))\n",
    "print('\\n')\n",
    "print(classification_report(y_test, rf_pred))"
   ]
  },
  {
   "cell_type": "code",
   "execution_count": 21,
   "metadata": {},
   "outputs": [],
   "source": [
    "import sklearn\n",
    "from sklearn.model_selection  import GridSearchCV\n",
    "from sklearn.svm import SVC\n",
    "from sklearn.preprocessing import StandardScaler\n",
    "from sklearn.decomposition import PCA "
   ]
  },
  {
   "cell_type": "code",
   "execution_count": 22,
   "metadata": {},
   "outputs": [],
   "source": [
    "svc = SVC()\n",
    "\n",
    "y = df.Class\n",
    "X = df.drop(df[['Class']], axis=1)\n",
    "\n",
    "X_train, X_test, y_train, y_test = train_test_split(X, y, test_size=0.50)"
   ]
  },
  {
   "cell_type": "code",
   "execution_count": 23,
   "metadata": {},
   "outputs": [],
   "source": [
    "ss = StandardScaler().fit_transform(X_train)"
   ]
  },
  {
   "cell_type": "code",
   "execution_count": 24,
   "metadata": {},
   "outputs": [
    {
     "name": "stdout",
     "output_type": "stream",
     "text": [
      "The percentage of total variance in the dataset explained by each component from Sklearn PCA.\n",
      " [0.06446724 0.05707452 0.03899403 0.03805713 0.03639713]\n"
     ]
    }
   ],
   "source": [
    "sklearn_pca = sklearn.decomposition.PCA(n_components=5)\n",
    "Y_sklearn = sklearn_pca.fit_transform(ss)\n",
    "X_PCA = pd.DataFrame(Y_sklearn)\n",
    "print( 'The percentage of total variance in the dataset explained by each','component from Sklearn PCA.\\n', sklearn_pca.explained_variance_ratio_)"
   ]
  },
  {
   "cell_type": "code",
   "execution_count": 25,
   "metadata": {},
   "outputs": [],
   "source": [
    "param_grid = {'C':[0.1,1,10,100,1000],'gamma':[1,0.1,0.01,0.001,0.0001]}"
   ]
  },
  {
   "cell_type": "code",
   "execution_count": 26,
   "metadata": {},
   "outputs": [],
   "source": [
    "grid = GridSearchCV(SVC(),param_grid,verbose=3)"
   ]
  },
  {
   "cell_type": "code",
   "execution_count": 27,
   "metadata": {},
   "outputs": [
    {
     "name": "stdout",
     "output_type": "stream",
     "text": [
      "Fitting 5 folds for each of 25 candidates, totalling 125 fits\n",
      "[CV] C=0.1, gamma=1 ..................................................\n"
     ]
    },
    {
     "name": "stderr",
     "output_type": "stream",
     "text": [
      "[Parallel(n_jobs=1)]: Using backend SequentialBackend with 1 concurrent workers.\n"
     ]
    },
    {
     "name": "stdout",
     "output_type": "stream",
     "text": [
      "[CV] ...................... C=0.1, gamma=1, score=0.998, total=   6.8s\n",
      "[CV] C=0.1, gamma=1 ..................................................\n"
     ]
    },
    {
     "name": "stderr",
     "output_type": "stream",
     "text": [
      "[Parallel(n_jobs=1)]: Done   1 out of   1 | elapsed:    6.7s remaining:    0.0s\n"
     ]
    },
    {
     "name": "stdout",
     "output_type": "stream",
     "text": [
      "[CV] ...................... C=0.1, gamma=1, score=0.998, total=   6.5s\n",
      "[CV] C=0.1, gamma=1 ..................................................\n"
     ]
    },
    {
     "name": "stderr",
     "output_type": "stream",
     "text": [
      "[Parallel(n_jobs=1)]: Done   2 out of   2 | elapsed:   13.2s remaining:    0.0s\n"
     ]
    },
    {
     "name": "stdout",
     "output_type": "stream",
     "text": [
      "[CV] ...................... C=0.1, gamma=1, score=0.998, total=   7.6s\n",
      "[CV] C=0.1, gamma=1 ..................................................\n",
      "[CV] ...................... C=0.1, gamma=1, score=0.998, total=   6.6s\n",
      "[CV] C=0.1, gamma=1 ..................................................\n",
      "[CV] ...................... C=0.1, gamma=1, score=0.998, total=   6.3s\n",
      "[CV] C=0.1, gamma=0.1 ................................................\n",
      "[CV] .................... C=0.1, gamma=0.1, score=0.998, total=   6.4s\n",
      "[CV] C=0.1, gamma=0.1 ................................................\n",
      "[CV] .................... C=0.1, gamma=0.1, score=0.998, total=   6.8s\n",
      "[CV] C=0.1, gamma=0.1 ................................................\n",
      "[CV] .................... C=0.1, gamma=0.1, score=0.998, total=   6.8s\n",
      "[CV] C=0.1, gamma=0.1 ................................................\n",
      "[CV] .................... C=0.1, gamma=0.1, score=0.998, total=   7.6s\n",
      "[CV] C=0.1, gamma=0.1 ................................................\n",
      "[CV] .................... C=0.1, gamma=0.1, score=0.998, total=   6.4s\n",
      "[CV] C=0.1, gamma=0.01 ...............................................\n",
      "[CV] ................... C=0.1, gamma=0.01, score=0.998, total=   7.6s\n",
      "[CV] C=0.1, gamma=0.01 ...............................................\n",
      "[CV] ................... C=0.1, gamma=0.01, score=0.998, total=   7.5s\n",
      "[CV] C=0.1, gamma=0.01 ...............................................\n",
      "[CV] ................... C=0.1, gamma=0.01, score=0.998, total=   7.5s\n",
      "[CV] C=0.1, gamma=0.01 ...............................................\n",
      "[CV] ................... C=0.1, gamma=0.01, score=0.998, total=   7.4s\n",
      "[CV] C=0.1, gamma=0.01 ...............................................\n",
      "[CV] ................... C=0.1, gamma=0.01, score=0.998, total=   6.9s\n",
      "[CV] C=0.1, gamma=0.001 ..............................................\n",
      "[CV] .................. C=0.1, gamma=0.001, score=0.998, total=   5.1s\n",
      "[CV] C=0.1, gamma=0.001 ..............................................\n",
      "[CV] .................. C=0.1, gamma=0.001, score=0.998, total=   5.3s\n",
      "[CV] C=0.1, gamma=0.001 ..............................................\n",
      "[CV] .................. C=0.1, gamma=0.001, score=0.998, total=   5.3s\n",
      "[CV] C=0.1, gamma=0.001 ..............................................\n",
      "[CV] .................. C=0.1, gamma=0.001, score=0.998, total=   4.3s\n",
      "[CV] C=0.1, gamma=0.001 ..............................................\n",
      "[CV] .................. C=0.1, gamma=0.001, score=0.998, total=   4.3s\n",
      "[CV] C=0.1, gamma=0.0001 .............................................\n",
      "[CV] ................. C=0.1, gamma=0.0001, score=0.998, total=   0.8s\n",
      "[CV] C=0.1, gamma=0.0001 .............................................\n",
      "[CV] ................. C=0.1, gamma=0.0001, score=0.998, total=   1.4s\n",
      "[CV] C=0.1, gamma=0.0001 .............................................\n",
      "[CV] ................. C=0.1, gamma=0.0001, score=0.998, total=   1.2s\n",
      "[CV] C=0.1, gamma=0.0001 .............................................\n",
      "[CV] ................. C=0.1, gamma=0.0001, score=0.998, total=   0.8s\n",
      "[CV] C=0.1, gamma=0.0001 .............................................\n",
      "[CV] ................. C=0.1, gamma=0.0001, score=0.998, total=   1.1s\n",
      "[CV] C=1, gamma=1 ....................................................\n",
      "[CV] ........................ C=1, gamma=1, score=0.998, total=  44.5s\n",
      "[CV] C=1, gamma=1 ....................................................\n",
      "[CV] ........................ C=1, gamma=1, score=0.998, total=  46.1s\n",
      "[CV] C=1, gamma=1 ....................................................\n",
      "[CV] ........................ C=1, gamma=1, score=0.998, total=  42.1s\n",
      "[CV] C=1, gamma=1 ....................................................\n",
      "[CV] ........................ C=1, gamma=1, score=0.998, total=  40.5s\n",
      "[CV] C=1, gamma=1 ....................................................\n",
      "[CV] ........................ C=1, gamma=1, score=0.998, total=  41.4s\n",
      "[CV] C=1, gamma=0.1 ..................................................\n",
      "[CV] ...................... C=1, gamma=0.1, score=0.998, total=  39.6s\n",
      "[CV] C=1, gamma=0.1 ..................................................\n",
      "[CV] ...................... C=1, gamma=0.1, score=0.998, total=  39.9s\n",
      "[CV] C=1, gamma=0.1 ..................................................\n",
      "[CV] ...................... C=1, gamma=0.1, score=0.998, total=  38.4s\n",
      "[CV] C=1, gamma=0.1 ..................................................\n",
      "[CV] ...................... C=1, gamma=0.1, score=0.998, total=  40.9s\n",
      "[CV] C=1, gamma=0.1 ..................................................\n",
      "[CV] ...................... C=1, gamma=0.1, score=0.998, total=  36.9s\n",
      "[CV] C=1, gamma=0.01 .................................................\n",
      "[CV] ..................... C=1, gamma=0.01, score=0.998, total=  38.7s\n",
      "[CV] C=1, gamma=0.01 .................................................\n",
      "[CV] ..................... C=1, gamma=0.01, score=0.998, total=  38.1s\n",
      "[CV] C=1, gamma=0.01 .................................................\n",
      "[CV] ..................... C=1, gamma=0.01, score=0.998, total=  36.1s\n",
      "[CV] C=1, gamma=0.01 .................................................\n",
      "[CV] ..................... C=1, gamma=0.01, score=0.998, total=  38.0s\n",
      "[CV] C=1, gamma=0.01 .................................................\n",
      "[CV] ..................... C=1, gamma=0.01, score=0.998, total=  40.9s\n",
      "[CV] C=1, gamma=0.001 ................................................\n",
      "[CV] .................... C=1, gamma=0.001, score=0.998, total=  26.8s\n",
      "[CV] C=1, gamma=0.001 ................................................\n",
      "[CV] .................... C=1, gamma=0.001, score=0.998, total=  27.0s\n",
      "[CV] C=1, gamma=0.001 ................................................\n",
      "[CV] .................... C=1, gamma=0.001, score=0.998, total=  31.6s\n",
      "[CV] C=1, gamma=0.001 ................................................\n",
      "[CV] .................... C=1, gamma=0.001, score=0.998, total=  22.9s\n",
      "[CV] C=1, gamma=0.001 ................................................\n",
      "[CV] .................... C=1, gamma=0.001, score=0.998, total=  22.3s\n",
      "[CV] C=1, gamma=0.0001 ...............................................\n",
      "[CV] ................... C=1, gamma=0.0001, score=0.998, total=   6.8s\n",
      "[CV] C=1, gamma=0.0001 ...............................................\n",
      "[CV] ................... C=1, gamma=0.0001, score=0.998, total=   6.9s\n",
      "[CV] C=1, gamma=0.0001 ...............................................\n",
      "[CV] ................... C=1, gamma=0.0001, score=0.998, total=   7.3s\n",
      "[CV] C=1, gamma=0.0001 ...............................................\n",
      "[CV] ................... C=1, gamma=0.0001, score=0.998, total=   5.9s\n",
      "[CV] C=1, gamma=0.0001 ...............................................\n",
      "[CV] ................... C=1, gamma=0.0001, score=0.998, total=   6.6s\n",
      "[CV] C=10, gamma=1 ...................................................\n",
      "[CV] ....................... C=10, gamma=1, score=0.998, total=  41.7s\n",
      "[CV] C=10, gamma=1 ...................................................\n",
      "[CV] ....................... C=10, gamma=1, score=0.998, total=  44.4s\n",
      "[CV] C=10, gamma=1 ...................................................\n",
      "[CV] ....................... C=10, gamma=1, score=0.998, total=  45.8s\n",
      "[CV] C=10, gamma=1 ...................................................\n",
      "[CV] ....................... C=10, gamma=1, score=0.998, total=  46.3s\n",
      "[CV] C=10, gamma=1 ...................................................\n",
      "[CV] ....................... C=10, gamma=1, score=0.998, total=  45.2s\n",
      "[CV] C=10, gamma=0.1 .................................................\n",
      "[CV] ..................... C=10, gamma=0.1, score=0.998, total=  45.9s\n",
      "[CV] C=10, gamma=0.1 .................................................\n",
      "[CV] ..................... C=10, gamma=0.1, score=0.998, total=  42.0s\n",
      "[CV] C=10, gamma=0.1 .................................................\n",
      "[CV] ..................... C=10, gamma=0.1, score=0.998, total=  44.3s\n",
      "[CV] C=10, gamma=0.1 .................................................\n",
      "[CV] ..................... C=10, gamma=0.1, score=0.998, total=  42.5s\n",
      "[CV] C=10, gamma=0.1 .................................................\n",
      "[CV] ..................... C=10, gamma=0.1, score=0.998, total=  43.4s\n",
      "[CV] C=10, gamma=0.01 ................................................\n"
     ]
    },
    {
     "name": "stdout",
     "output_type": "stream",
     "text": [
      "[CV] .................... C=10, gamma=0.01, score=0.998, total=  43.9s\n",
      "[CV] C=10, gamma=0.01 ................................................\n",
      "[CV] .................... C=10, gamma=0.01, score=0.998, total=  43.1s\n",
      "[CV] C=10, gamma=0.01 ................................................\n",
      "[CV] .................... C=10, gamma=0.01, score=0.998, total=  40.3s\n",
      "[CV] C=10, gamma=0.01 ................................................\n",
      "[CV] .................... C=10, gamma=0.01, score=0.998, total=  40.3s\n",
      "[CV] C=10, gamma=0.01 ................................................\n",
      "[CV] .................... C=10, gamma=0.01, score=0.998, total=  43.8s\n",
      "[CV] C=10, gamma=0.001 ...............................................\n",
      "[CV] ................... C=10, gamma=0.001, score=0.998, total=  37.3s\n",
      "[CV] C=10, gamma=0.001 ...............................................\n",
      "[CV] ................... C=10, gamma=0.001, score=0.998, total=  35.1s\n",
      "[CV] C=10, gamma=0.001 ...............................................\n",
      "[CV] ................... C=10, gamma=0.001, score=0.997, total=  46.1s\n",
      "[CV] C=10, gamma=0.001 ...............................................\n",
      "[CV] ................... C=10, gamma=0.001, score=0.997, total=  31.9s\n",
      "[CV] C=10, gamma=0.001 ...............................................\n",
      "[CV] ................... C=10, gamma=0.001, score=0.998, total=  30.7s\n",
      "[CV] C=10, gamma=0.0001 ..............................................\n",
      "[CV] .................. C=10, gamma=0.0001, score=0.998, total=   9.0s\n",
      "[CV] C=10, gamma=0.0001 ..............................................\n",
      "[CV] .................. C=10, gamma=0.0001, score=0.998, total=  10.0s\n",
      "[CV] C=10, gamma=0.0001 ..............................................\n",
      "[CV] .................. C=10, gamma=0.0001, score=0.998, total=   9.9s\n",
      "[CV] C=10, gamma=0.0001 ..............................................\n",
      "[CV] .................. C=10, gamma=0.0001, score=0.998, total=   7.6s\n",
      "[CV] C=10, gamma=0.0001 ..............................................\n",
      "[CV] .................. C=10, gamma=0.0001, score=0.998, total=   9.5s\n",
      "[CV] C=100, gamma=1 ..................................................\n",
      "[CV] ...................... C=100, gamma=1, score=0.998, total=  46.0s\n",
      "[CV] C=100, gamma=1 ..................................................\n",
      "[CV] ...................... C=100, gamma=1, score=0.998, total=  58.3s\n",
      "[CV] C=100, gamma=1 ..................................................\n",
      "[CV] ...................... C=100, gamma=1, score=0.998, total=  52.6s\n",
      "[CV] C=100, gamma=1 ..................................................\n",
      "[CV] ...................... C=100, gamma=1, score=0.998, total=  56.2s\n",
      "[CV] C=100, gamma=1 ..................................................\n",
      "[CV] ...................... C=100, gamma=1, score=0.998, total=  59.3s\n",
      "[CV] C=100, gamma=0.1 ................................................\n",
      "[CV] .................... C=100, gamma=0.1, score=0.998, total=  52.1s\n",
      "[CV] C=100, gamma=0.1 ................................................\n",
      "[CV] .................... C=100, gamma=0.1, score=0.998, total=  49.5s\n",
      "[CV] C=100, gamma=0.1 ................................................\n",
      "[CV] .................... C=100, gamma=0.1, score=0.998, total=  50.8s\n",
      "[CV] C=100, gamma=0.1 ................................................\n",
      "[CV] .................... C=100, gamma=0.1, score=0.998, total=  50.5s\n",
      "[CV] C=100, gamma=0.1 ................................................\n",
      "[CV] .................... C=100, gamma=0.1, score=0.998, total=  51.2s\n",
      "[CV] C=100, gamma=0.01 ...............................................\n",
      "[CV] ................... C=100, gamma=0.01, score=0.998, total=  51.1s\n",
      "[CV] C=100, gamma=0.01 ...............................................\n",
      "[CV] ................... C=100, gamma=0.01, score=0.998, total=  53.4s\n",
      "[CV] C=100, gamma=0.01 ...............................................\n",
      "[CV] ................... C=100, gamma=0.01, score=0.998, total=  50.1s\n",
      "[CV] C=100, gamma=0.01 ...............................................\n",
      "[CV] ................... C=100, gamma=0.01, score=0.998, total=  49.6s\n",
      "[CV] C=100, gamma=0.01 ...............................................\n",
      "[CV] ................... C=100, gamma=0.01, score=0.998, total=  52.9s\n",
      "[CV] C=100, gamma=0.001 ..............................................\n",
      "[CV] .................. C=100, gamma=0.001, score=0.998, total=  39.1s\n",
      "[CV] C=100, gamma=0.001 ..............................................\n",
      "[CV] .................. C=100, gamma=0.001, score=0.998, total=  35.6s\n",
      "[CV] C=100, gamma=0.001 ..............................................\n",
      "[CV] .................. C=100, gamma=0.001, score=0.997, total=  43.6s\n",
      "[CV] C=100, gamma=0.001 ..............................................\n",
      "[CV] .................. C=100, gamma=0.001, score=0.997, total=  40.2s\n",
      "[CV] C=100, gamma=0.001 ..............................................\n",
      "[CV] .................. C=100, gamma=0.001, score=0.998, total=  35.3s\n",
      "[CV] C=100, gamma=0.0001 .............................................\n",
      "[CV] ................. C=100, gamma=0.0001, score=0.998, total=   0.4s\n",
      "[CV] C=100, gamma=0.0001 .............................................\n",
      "[CV] ................. C=100, gamma=0.0001, score=0.998, total=   8.6s\n",
      "[CV] C=100, gamma=0.0001 .............................................\n",
      "[CV] ................. C=100, gamma=0.0001, score=0.996, total=   0.3s\n",
      "[CV] C=100, gamma=0.0001 .............................................\n",
      "[CV] ................. C=100, gamma=0.0001, score=0.997, total=   0.6s\n",
      "[CV] C=100, gamma=0.0001 .............................................\n",
      "[CV] ................. C=100, gamma=0.0001, score=0.997, total=   0.3s\n",
      "[CV] C=1000, gamma=1 .................................................\n",
      "[CV] ..................... C=1000, gamma=1, score=0.998, total=  54.8s\n",
      "[CV] C=1000, gamma=1 .................................................\n",
      "[CV] ..................... C=1000, gamma=1, score=0.998, total=  53.7s\n",
      "[CV] C=1000, gamma=1 .................................................\n",
      "[CV] ..................... C=1000, gamma=1, score=0.998, total=  54.2s\n",
      "[CV] C=1000, gamma=1 .................................................\n",
      "[CV] ..................... C=1000, gamma=1, score=0.998, total=  54.0s\n",
      "[CV] C=1000, gamma=1 .................................................\n",
      "[CV] ..................... C=1000, gamma=1, score=0.998, total=  54.3s\n",
      "[CV] C=1000, gamma=0.1 ...............................................\n",
      "[CV] ................... C=1000, gamma=0.1, score=0.998, total=  48.9s\n",
      "[CV] C=1000, gamma=0.1 ...............................................\n",
      "[CV] ................... C=1000, gamma=0.1, score=0.998, total=  48.7s\n",
      "[CV] C=1000, gamma=0.1 ...............................................\n",
      "[CV] ................... C=1000, gamma=0.1, score=0.998, total=  48.7s\n",
      "[CV] C=1000, gamma=0.1 ...............................................\n",
      "[CV] ................... C=1000, gamma=0.1, score=0.998, total=  48.3s\n",
      "[CV] C=1000, gamma=0.1 ...............................................\n",
      "[CV] ................... C=1000, gamma=0.1, score=0.998, total=  51.6s\n",
      "[CV] C=1000, gamma=0.01 ..............................................\n",
      "[CV] .................. C=1000, gamma=0.01, score=0.998, total=  49.1s\n",
      "[CV] C=1000, gamma=0.01 ..............................................\n",
      "[CV] .................. C=1000, gamma=0.01, score=0.998, total=  49.1s\n",
      "[CV] C=1000, gamma=0.01 ..............................................\n",
      "[CV] .................. C=1000, gamma=0.01, score=0.998, total=  48.3s\n",
      "[CV] C=1000, gamma=0.01 ..............................................\n",
      "[CV] .................. C=1000, gamma=0.01, score=0.998, total=  49.1s\n",
      "[CV] C=1000, gamma=0.01 ..............................................\n",
      "[CV] .................. C=1000, gamma=0.01, score=0.998, total=  50.4s\n",
      "[CV] C=1000, gamma=0.001 .............................................\n",
      "[CV] ................. C=1000, gamma=0.001, score=0.998, total=  39.0s\n",
      "[CV] C=1000, gamma=0.001 .............................................\n",
      "[CV] ................. C=1000, gamma=0.001, score=0.998, total=  36.7s\n",
      "[CV] C=1000, gamma=0.001 .............................................\n",
      "[CV] ................. C=1000, gamma=0.001, score=0.997, total=  40.3s\n",
      "[CV] C=1000, gamma=0.001 .............................................\n"
     ]
    },
    {
     "name": "stdout",
     "output_type": "stream",
     "text": [
      "[CV] ................. C=1000, gamma=0.001, score=0.997, total=  36.9s\n",
      "[CV] C=1000, gamma=0.001 .............................................\n",
      "[CV] ................. C=1000, gamma=0.001, score=0.998, total=  36.7s\n",
      "[CV] C=1000, gamma=0.0001 ............................................\n",
      "[CV] ................ C=1000, gamma=0.0001, score=0.998, total=   0.3s\n",
      "[CV] C=1000, gamma=0.0001 ............................................\n",
      "[CV] ................ C=1000, gamma=0.0001, score=0.998, total=   8.0s\n",
      "[CV] C=1000, gamma=0.0001 ............................................\n",
      "[CV] ................ C=1000, gamma=0.0001, score=0.996, total=   0.3s\n",
      "[CV] C=1000, gamma=0.0001 ............................................\n",
      "[CV] ................ C=1000, gamma=0.0001, score=0.997, total=   0.4s\n",
      "[CV] C=1000, gamma=0.0001 ............................................\n",
      "[CV] ................ C=1000, gamma=0.0001, score=0.997, total=   0.3s\n"
     ]
    },
    {
     "name": "stderr",
     "output_type": "stream",
     "text": [
      "[Parallel(n_jobs=1)]: Done 125 out of 125 | elapsed: 62.2min finished\n"
     ]
    },
    {
     "data": {
      "text/plain": [
       "GridSearchCV(estimator=SVC(),\n",
       "             param_grid={'C': [0.1, 1, 10, 100, 1000],\n",
       "                         'gamma': [1, 0.1, 0.01, 0.001, 0.0001]},\n",
       "             verbose=3)"
      ]
     },
     "execution_count": 27,
     "metadata": {},
     "output_type": "execute_result"
    }
   ],
   "source": [
    "grid.fit(X_train, y_train)"
   ]
  },
  {
   "cell_type": "code",
   "execution_count": 28,
   "metadata": {},
   "outputs": [],
   "source": [
    "grid_pred = grid.predict(X_test)"
   ]
  },
  {
   "cell_type": "code",
   "execution_count": 29,
   "metadata": {},
   "outputs": [
    {
     "name": "stdout",
     "output_type": "stream",
     "text": [
      "[[14211     0]\n",
      " [   30     0]]\n",
      "\n",
      "\n",
      "              precision    recall  f1-score   support\n",
      "\n",
      "           0       1.00      1.00      1.00     14211\n",
      "           1       0.00      0.00      0.00        30\n",
      "\n",
      "    accuracy                           1.00     14241\n",
      "   macro avg       0.50      0.50      0.50     14241\n",
      "weighted avg       1.00      1.00      1.00     14241\n",
      "\n"
     ]
    }
   ],
   "source": [
    "print(confusion_matrix(y_test,grid_pred))\n",
    "print('\\n')\n",
    "print(classification_report(y_test,grid_pred))"
   ]
  },
  {
   "cell_type": "markdown",
   "metadata": {},
   "source": [
    "# KNN"
   ]
  },
  {
   "cell_type": "code",
   "execution_count": 30,
   "metadata": {},
   "outputs": [],
   "source": [
    "from sklearn import neighbors"
   ]
  },
  {
   "cell_type": "code",
   "execution_count": 31,
   "metadata": {},
   "outputs": [],
   "source": [
    "knn = neighbors.KNeighborsClassifier(n_neighbors=5, weights='distance')"
   ]
  },
  {
   "cell_type": "code",
   "execution_count": 32,
   "metadata": {},
   "outputs": [
    {
     "data": {
      "text/plain": [
       "KNeighborsClassifier(weights='distance')"
      ]
     },
     "execution_count": 32,
     "metadata": {},
     "output_type": "execute_result"
    }
   ],
   "source": [
    "knn.fit(X_train, y_train)"
   ]
  },
  {
   "cell_type": "code",
   "execution_count": null,
   "metadata": {},
   "outputs": [],
   "source": []
  },
  {
   "cell_type": "code",
   "execution_count": 33,
   "metadata": {},
   "outputs": [
    {
     "data": {
      "text/plain": [
       "array([0.99789341, 0.99810407, 0.99810407, 0.99789341, 0.99789341,\n",
       "       0.99810367])"
      ]
     },
     "execution_count": 33,
     "metadata": {},
     "output_type": "execute_result"
    }
   ],
   "source": [
    "cross_val_score(knn.fit(X_train, y_train), X, y, cv=6)"
   ]
  },
  {
   "cell_type": "code",
   "execution_count": 34,
   "metadata": {},
   "outputs": [],
   "source": [
    "param_grid = {'n_neighbors':[1,3,5,10,15,20,25,30,40,50,75,100],'weights':['uniform','distance']}"
   ]
  },
  {
   "cell_type": "code",
   "execution_count": 35,
   "metadata": {},
   "outputs": [],
   "source": [
    "KNN = neighbors.KNeighborsClassifier()"
   ]
  },
  {
   "cell_type": "code",
   "execution_count": 36,
   "metadata": {},
   "outputs": [],
   "source": [
    "grid = GridSearchCV(KNN,param_grid,verbose=3)"
   ]
  },
  {
   "cell_type": "code",
   "execution_count": 37,
   "metadata": {},
   "outputs": [
    {
     "name": "stdout",
     "output_type": "stream",
     "text": [
      "Fitting 5 folds for each of 24 candidates, totalling 120 fits\n",
      "[CV] n_neighbors=1, weights=uniform ..................................\n"
     ]
    },
    {
     "name": "stderr",
     "output_type": "stream",
     "text": [
      "[Parallel(n_jobs=1)]: Using backend SequentialBackend with 1 concurrent workers.\n"
     ]
    },
    {
     "name": "stdout",
     "output_type": "stream",
     "text": [
      "[CV] ...... n_neighbors=1, weights=uniform, score=0.998, total=   0.7s\n",
      "[CV] n_neighbors=1, weights=uniform ..................................\n"
     ]
    },
    {
     "name": "stderr",
     "output_type": "stream",
     "text": [
      "[Parallel(n_jobs=1)]: Done   1 out of   1 | elapsed:    0.6s remaining:    0.0s\n"
     ]
    },
    {
     "name": "stdout",
     "output_type": "stream",
     "text": [
      "[CV] ...... n_neighbors=1, weights=uniform, score=0.998, total=   0.4s\n",
      "[CV] n_neighbors=1, weights=uniform ..................................\n"
     ]
    },
    {
     "name": "stderr",
     "output_type": "stream",
     "text": [
      "[Parallel(n_jobs=1)]: Done   2 out of   2 | elapsed:    1.0s remaining:    0.0s\n"
     ]
    },
    {
     "name": "stdout",
     "output_type": "stream",
     "text": [
      "[CV] ...... n_neighbors=1, weights=uniform, score=0.996, total=   0.4s\n",
      "[CV] n_neighbors=1, weights=uniform ..................................\n",
      "[CV] ...... n_neighbors=1, weights=uniform, score=0.996, total=   0.5s\n",
      "[CV] n_neighbors=1, weights=uniform ..................................\n",
      "[CV] ...... n_neighbors=1, weights=uniform, score=0.996, total=   0.6s\n",
      "[CV] n_neighbors=1, weights=distance .................................\n",
      "[CV] ..... n_neighbors=1, weights=distance, score=0.998, total=   0.4s\n",
      "[CV] n_neighbors=1, weights=distance .................................\n",
      "[CV] ..... n_neighbors=1, weights=distance, score=0.998, total=   0.4s\n",
      "[CV] n_neighbors=1, weights=distance .................................\n",
      "[CV] ..... n_neighbors=1, weights=distance, score=0.996, total=   0.4s\n",
      "[CV] n_neighbors=1, weights=distance .................................\n",
      "[CV] ..... n_neighbors=1, weights=distance, score=0.996, total=   0.4s\n",
      "[CV] n_neighbors=1, weights=distance .................................\n",
      "[CV] ..... n_neighbors=1, weights=distance, score=0.996, total=   0.3s\n",
      "[CV] n_neighbors=3, weights=uniform ..................................\n",
      "[CV] ...... n_neighbors=3, weights=uniform, score=0.998, total=   0.7s\n",
      "[CV] n_neighbors=3, weights=uniform ..................................\n",
      "[CV] ...... n_neighbors=3, weights=uniform, score=0.998, total=   0.8s\n",
      "[CV] n_neighbors=3, weights=uniform ..................................\n",
      "[CV] ...... n_neighbors=3, weights=uniform, score=0.998, total=   0.8s\n",
      "[CV] n_neighbors=3, weights=uniform ..................................\n",
      "[CV] ...... n_neighbors=3, weights=uniform, score=0.998, total=   0.5s\n",
      "[CV] n_neighbors=3, weights=uniform ..................................\n",
      "[CV] ...... n_neighbors=3, weights=uniform, score=0.998, total=   0.6s\n",
      "[CV] n_neighbors=3, weights=distance .................................\n",
      "[CV] ..... n_neighbors=3, weights=distance, score=0.998, total=   0.3s\n",
      "[CV] n_neighbors=3, weights=distance .................................\n",
      "[CV] ..... n_neighbors=3, weights=distance, score=0.998, total=   0.3s\n",
      "[CV] n_neighbors=3, weights=distance .................................\n",
      "[CV] ..... n_neighbors=3, weights=distance, score=0.998, total=   0.2s\n",
      "[CV] n_neighbors=3, weights=distance .................................\n",
      "[CV] ..... n_neighbors=3, weights=distance, score=0.998, total=   0.2s\n",
      "[CV] n_neighbors=3, weights=distance .................................\n",
      "[CV] ..... n_neighbors=3, weights=distance, score=0.998, total=   0.4s\n",
      "[CV] n_neighbors=5, weights=uniform ..................................\n",
      "[CV] ...... n_neighbors=5, weights=uniform, score=0.998, total=   0.5s\n",
      "[CV] n_neighbors=5, weights=uniform ..................................\n",
      "[CV] ...... n_neighbors=5, weights=uniform, score=0.998, total=   0.7s\n",
      "[CV] n_neighbors=5, weights=uniform ..................................\n",
      "[CV] ...... n_neighbors=5, weights=uniform, score=0.998, total=   0.6s\n",
      "[CV] n_neighbors=5, weights=uniform ..................................\n",
      "[CV] ...... n_neighbors=5, weights=uniform, score=0.998, total=   0.5s\n",
      "[CV] n_neighbors=5, weights=uniform ..................................\n",
      "[CV] ...... n_neighbors=5, weights=uniform, score=0.998, total=   0.6s\n",
      "[CV] n_neighbors=5, weights=distance .................................\n",
      "[CV] ..... n_neighbors=5, weights=distance, score=0.998, total=   0.3s\n",
      "[CV] n_neighbors=5, weights=distance .................................\n",
      "[CV] ..... n_neighbors=5, weights=distance, score=0.998, total=   0.3s\n",
      "[CV] n_neighbors=5, weights=distance .................................\n",
      "[CV] ..... n_neighbors=5, weights=distance, score=0.998, total=   0.3s\n",
      "[CV] n_neighbors=5, weights=distance .................................\n",
      "[CV] ..... n_neighbors=5, weights=distance, score=0.998, total=   0.3s\n",
      "[CV] n_neighbors=5, weights=distance .................................\n",
      "[CV] ..... n_neighbors=5, weights=distance, score=0.998, total=   0.3s\n",
      "[CV] n_neighbors=10, weights=uniform .................................\n",
      "[CV] ..... n_neighbors=10, weights=uniform, score=0.998, total=   0.7s\n",
      "[CV] n_neighbors=10, weights=uniform .................................\n",
      "[CV] ..... n_neighbors=10, weights=uniform, score=0.998, total=   0.5s\n",
      "[CV] n_neighbors=10, weights=uniform .................................\n",
      "[CV] ..... n_neighbors=10, weights=uniform, score=0.998, total=   0.5s\n",
      "[CV] n_neighbors=10, weights=uniform .................................\n",
      "[CV] ..... n_neighbors=10, weights=uniform, score=0.998, total=   0.5s\n",
      "[CV] n_neighbors=10, weights=uniform .................................\n",
      "[CV] ..... n_neighbors=10, weights=uniform, score=0.998, total=   0.5s\n",
      "[CV] n_neighbors=10, weights=distance ................................\n",
      "[CV] .... n_neighbors=10, weights=distance, score=0.998, total=   0.3s\n",
      "[CV] n_neighbors=10, weights=distance ................................\n",
      "[CV] .... n_neighbors=10, weights=distance, score=0.998, total=   0.3s\n",
      "[CV] n_neighbors=10, weights=distance ................................\n",
      "[CV] .... n_neighbors=10, weights=distance, score=0.998, total=   0.5s\n",
      "[CV] n_neighbors=10, weights=distance ................................\n",
      "[CV] .... n_neighbors=10, weights=distance, score=0.998, total=   0.4s\n",
      "[CV] n_neighbors=10, weights=distance ................................\n",
      "[CV] .... n_neighbors=10, weights=distance, score=0.998, total=   0.3s\n",
      "[CV] n_neighbors=15, weights=uniform .................................\n",
      "[CV] ..... n_neighbors=15, weights=uniform, score=0.998, total=   0.7s\n",
      "[CV] n_neighbors=15, weights=uniform .................................\n",
      "[CV] ..... n_neighbors=15, weights=uniform, score=0.998, total=   0.6s\n",
      "[CV] n_neighbors=15, weights=uniform .................................\n",
      "[CV] ..... n_neighbors=15, weights=uniform, score=0.998, total=   0.6s\n",
      "[CV] n_neighbors=15, weights=uniform .................................\n",
      "[CV] ..... n_neighbors=15, weights=uniform, score=0.998, total=   0.7s\n",
      "[CV] n_neighbors=15, weights=uniform .................................\n",
      "[CV] ..... n_neighbors=15, weights=uniform, score=0.998, total=   0.5s\n",
      "[CV] n_neighbors=15, weights=distance ................................\n",
      "[CV] .... n_neighbors=15, weights=distance, score=0.998, total=   0.3s\n",
      "[CV] n_neighbors=15, weights=distance ................................\n",
      "[CV] .... n_neighbors=15, weights=distance, score=0.998, total=   0.4s\n",
      "[CV] n_neighbors=15, weights=distance ................................\n",
      "[CV] .... n_neighbors=15, weights=distance, score=0.998, total=   0.3s\n",
      "[CV] n_neighbors=15, weights=distance ................................\n",
      "[CV] .... n_neighbors=15, weights=distance, score=0.998, total=   0.3s\n",
      "[CV] n_neighbors=15, weights=distance ................................\n",
      "[CV] .... n_neighbors=15, weights=distance, score=0.998, total=   0.3s\n",
      "[CV] n_neighbors=20, weights=uniform .................................\n",
      "[CV] ..... n_neighbors=20, weights=uniform, score=0.998, total=   0.5s\n",
      "[CV] n_neighbors=20, weights=uniform .................................\n",
      "[CV] ..... n_neighbors=20, weights=uniform, score=0.998, total=   0.5s\n",
      "[CV] n_neighbors=20, weights=uniform .................................\n",
      "[CV] ..... n_neighbors=20, weights=uniform, score=0.998, total=   0.5s\n",
      "[CV] n_neighbors=20, weights=uniform .................................\n",
      "[CV] ..... n_neighbors=20, weights=uniform, score=0.998, total=   0.5s\n",
      "[CV] n_neighbors=20, weights=uniform .................................\n",
      "[CV] ..... n_neighbors=20, weights=uniform, score=0.998, total=   0.4s\n",
      "[CV] n_neighbors=20, weights=distance ................................\n",
      "[CV] .... n_neighbors=20, weights=distance, score=0.998, total=   0.3s\n",
      "[CV] n_neighbors=20, weights=distance ................................\n",
      "[CV] .... n_neighbors=20, weights=distance, score=0.998, total=   0.3s\n",
      "[CV] n_neighbors=20, weights=distance ................................\n",
      "[CV] .... n_neighbors=20, weights=distance, score=0.998, total=   0.4s\n",
      "[CV] n_neighbors=20, weights=distance ................................\n",
      "[CV] .... n_neighbors=20, weights=distance, score=0.998, total=   0.3s\n",
      "[CV] n_neighbors=20, weights=distance ................................\n",
      "[CV] .... n_neighbors=20, weights=distance, score=0.998, total=   0.3s\n",
      "[CV] n_neighbors=25, weights=uniform .................................\n"
     ]
    },
    {
     "name": "stdout",
     "output_type": "stream",
     "text": [
      "[CV] ..... n_neighbors=25, weights=uniform, score=0.998, total=   0.4s\n",
      "[CV] n_neighbors=25, weights=uniform .................................\n",
      "[CV] ..... n_neighbors=25, weights=uniform, score=0.998, total=   0.4s\n",
      "[CV] n_neighbors=25, weights=uniform .................................\n",
      "[CV] ..... n_neighbors=25, weights=uniform, score=0.998, total=   0.4s\n",
      "[CV] n_neighbors=25, weights=uniform .................................\n",
      "[CV] ..... n_neighbors=25, weights=uniform, score=0.998, total=   0.4s\n",
      "[CV] n_neighbors=25, weights=uniform .................................\n",
      "[CV] ..... n_neighbors=25, weights=uniform, score=0.998, total=   0.4s\n",
      "[CV] n_neighbors=25, weights=distance ................................\n",
      "[CV] .... n_neighbors=25, weights=distance, score=0.998, total=   0.3s\n",
      "[CV] n_neighbors=25, weights=distance ................................\n",
      "[CV] .... n_neighbors=25, weights=distance, score=0.998, total=   0.3s\n",
      "[CV] n_neighbors=25, weights=distance ................................\n",
      "[CV] .... n_neighbors=25, weights=distance, score=0.998, total=   0.3s\n",
      "[CV] n_neighbors=25, weights=distance ................................\n",
      "[CV] .... n_neighbors=25, weights=distance, score=0.998, total=   0.3s\n",
      "[CV] n_neighbors=25, weights=distance ................................\n",
      "[CV] .... n_neighbors=25, weights=distance, score=0.998, total=   0.3s\n",
      "[CV] n_neighbors=30, weights=uniform .................................\n",
      "[CV] ..... n_neighbors=30, weights=uniform, score=0.998, total=   0.5s\n",
      "[CV] n_neighbors=30, weights=uniform .................................\n",
      "[CV] ..... n_neighbors=30, weights=uniform, score=0.998, total=   0.6s\n",
      "[CV] n_neighbors=30, weights=uniform .................................\n",
      "[CV] ..... n_neighbors=30, weights=uniform, score=0.998, total=   0.6s\n",
      "[CV] n_neighbors=30, weights=uniform .................................\n",
      "[CV] ..... n_neighbors=30, weights=uniform, score=0.998, total=   0.5s\n",
      "[CV] n_neighbors=30, weights=uniform .................................\n",
      "[CV] ..... n_neighbors=30, weights=uniform, score=0.998, total=   0.4s\n",
      "[CV] n_neighbors=30, weights=distance ................................\n",
      "[CV] .... n_neighbors=30, weights=distance, score=0.998, total=   0.3s\n",
      "[CV] n_neighbors=30, weights=distance ................................\n",
      "[CV] .... n_neighbors=30, weights=distance, score=0.998, total=   0.3s\n",
      "[CV] n_neighbors=30, weights=distance ................................\n",
      "[CV] .... n_neighbors=30, weights=distance, score=0.998, total=   0.3s\n",
      "[CV] n_neighbors=30, weights=distance ................................\n",
      "[CV] .... n_neighbors=30, weights=distance, score=0.998, total=   0.3s\n",
      "[CV] n_neighbors=30, weights=distance ................................\n",
      "[CV] .... n_neighbors=30, weights=distance, score=0.998, total=   0.3s\n",
      "[CV] n_neighbors=40, weights=uniform .................................\n",
      "[CV] ..... n_neighbors=40, weights=uniform, score=0.998, total=   0.6s\n",
      "[CV] n_neighbors=40, weights=uniform .................................\n",
      "[CV] ..... n_neighbors=40, weights=uniform, score=0.998, total=   0.5s\n",
      "[CV] n_neighbors=40, weights=uniform .................................\n",
      "[CV] ..... n_neighbors=40, weights=uniform, score=0.998, total=   0.5s\n",
      "[CV] n_neighbors=40, weights=uniform .................................\n",
      "[CV] ..... n_neighbors=40, weights=uniform, score=0.998, total=   0.7s\n",
      "[CV] n_neighbors=40, weights=uniform .................................\n",
      "[CV] ..... n_neighbors=40, weights=uniform, score=0.998, total=   0.6s\n",
      "[CV] n_neighbors=40, weights=distance ................................\n",
      "[CV] .... n_neighbors=40, weights=distance, score=0.998, total=   0.5s\n",
      "[CV] n_neighbors=40, weights=distance ................................\n",
      "[CV] .... n_neighbors=40, weights=distance, score=0.998, total=   0.3s\n",
      "[CV] n_neighbors=40, weights=distance ................................\n",
      "[CV] .... n_neighbors=40, weights=distance, score=0.998, total=   0.5s\n",
      "[CV] n_neighbors=40, weights=distance ................................\n",
      "[CV] .... n_neighbors=40, weights=distance, score=0.998, total=   0.4s\n",
      "[CV] n_neighbors=40, weights=distance ................................\n",
      "[CV] .... n_neighbors=40, weights=distance, score=0.998, total=   0.3s\n",
      "[CV] n_neighbors=50, weights=uniform .................................\n",
      "[CV] ..... n_neighbors=50, weights=uniform, score=0.998, total=   0.8s\n",
      "[CV] n_neighbors=50, weights=uniform .................................\n",
      "[CV] ..... n_neighbors=50, weights=uniform, score=0.998, total=   0.8s\n",
      "[CV] n_neighbors=50, weights=uniform .................................\n",
      "[CV] ..... n_neighbors=50, weights=uniform, score=0.998, total=   0.7s\n",
      "[CV] n_neighbors=50, weights=uniform .................................\n",
      "[CV] ..... n_neighbors=50, weights=uniform, score=0.998, total=   0.5s\n",
      "[CV] n_neighbors=50, weights=uniform .................................\n",
      "[CV] ..... n_neighbors=50, weights=uniform, score=0.998, total=   0.5s\n",
      "[CV] n_neighbors=50, weights=distance ................................\n",
      "[CV] .... n_neighbors=50, weights=distance, score=0.998, total=   0.7s\n",
      "[CV] n_neighbors=50, weights=distance ................................\n",
      "[CV] .... n_neighbors=50, weights=distance, score=0.998, total=   0.4s\n",
      "[CV] n_neighbors=50, weights=distance ................................\n",
      "[CV] .... n_neighbors=50, weights=distance, score=0.998, total=   0.3s\n",
      "[CV] n_neighbors=50, weights=distance ................................\n",
      "[CV] .... n_neighbors=50, weights=distance, score=0.998, total=   0.4s\n",
      "[CV] n_neighbors=50, weights=distance ................................\n",
      "[CV] .... n_neighbors=50, weights=distance, score=0.998, total=   0.5s\n",
      "[CV] n_neighbors=75, weights=uniform .................................\n",
      "[CV] ..... n_neighbors=75, weights=uniform, score=0.998, total=   0.7s\n",
      "[CV] n_neighbors=75, weights=uniform .................................\n",
      "[CV] ..... n_neighbors=75, weights=uniform, score=0.998, total=   0.6s\n",
      "[CV] n_neighbors=75, weights=uniform .................................\n",
      "[CV] ..... n_neighbors=75, weights=uniform, score=0.998, total=   0.6s\n",
      "[CV] n_neighbors=75, weights=uniform .................................\n",
      "[CV] ..... n_neighbors=75, weights=uniform, score=0.998, total=   0.7s\n",
      "[CV] n_neighbors=75, weights=uniform .................................\n",
      "[CV] ..... n_neighbors=75, weights=uniform, score=0.998, total=   0.7s\n",
      "[CV] n_neighbors=75, weights=distance ................................\n",
      "[CV] .... n_neighbors=75, weights=distance, score=0.998, total=   0.4s\n",
      "[CV] n_neighbors=75, weights=distance ................................\n",
      "[CV] .... n_neighbors=75, weights=distance, score=0.998, total=   0.4s\n",
      "[CV] n_neighbors=75, weights=distance ................................\n",
      "[CV] .... n_neighbors=75, weights=distance, score=0.998, total=   0.4s\n",
      "[CV] n_neighbors=75, weights=distance ................................\n",
      "[CV] .... n_neighbors=75, weights=distance, score=0.998, total=   0.5s\n",
      "[CV] n_neighbors=75, weights=distance ................................\n",
      "[CV] .... n_neighbors=75, weights=distance, score=0.998, total=   0.4s\n",
      "[CV] n_neighbors=100, weights=uniform ................................\n",
      "[CV] .... n_neighbors=100, weights=uniform, score=0.998, total=   0.7s\n",
      "[CV] n_neighbors=100, weights=uniform ................................\n",
      "[CV] .... n_neighbors=100, weights=uniform, score=0.998, total=   1.0s\n",
      "[CV] n_neighbors=100, weights=uniform ................................\n",
      "[CV] .... n_neighbors=100, weights=uniform, score=0.998, total=   0.7s\n",
      "[CV] n_neighbors=100, weights=uniform ................................\n",
      "[CV] .... n_neighbors=100, weights=uniform, score=0.998, total=   0.6s\n",
      "[CV] n_neighbors=100, weights=uniform ................................\n",
      "[CV] .... n_neighbors=100, weights=uniform, score=0.998, total=   0.6s\n",
      "[CV] n_neighbors=100, weights=distance ...............................\n",
      "[CV] ... n_neighbors=100, weights=distance, score=0.998, total=   0.4s\n",
      "[CV] n_neighbors=100, weights=distance ...............................\n",
      "[CV] ... n_neighbors=100, weights=distance, score=0.998, total=   0.5s\n",
      "[CV] n_neighbors=100, weights=distance ...............................\n",
      "[CV] ... n_neighbors=100, weights=distance, score=0.998, total=   0.8s\n",
      "[CV] n_neighbors=100, weights=distance ...............................\n"
     ]
    },
    {
     "name": "stdout",
     "output_type": "stream",
     "text": [
      "[CV] ... n_neighbors=100, weights=distance, score=0.998, total=   0.4s\n",
      "[CV] n_neighbors=100, weights=distance ...............................\n",
      "[CV] ... n_neighbors=100, weights=distance, score=0.998, total=   0.5s\n"
     ]
    },
    {
     "name": "stderr",
     "output_type": "stream",
     "text": [
      "[Parallel(n_jobs=1)]: Done 120 out of 120 | elapsed:   57.0s finished\n"
     ]
    },
    {
     "data": {
      "text/plain": [
       "GridSearchCV(estimator=KNeighborsClassifier(),\n",
       "             param_grid={'n_neighbors': [1, 3, 5, 10, 15, 20, 25, 30, 40, 50,\n",
       "                                         75, 100],\n",
       "                         'weights': ['uniform', 'distance']},\n",
       "             verbose=3)"
      ]
     },
     "execution_count": 37,
     "metadata": {},
     "output_type": "execute_result"
    }
   ],
   "source": [
    "grid.fit(X_train, y_train)"
   ]
  },
  {
   "cell_type": "code",
   "execution_count": 38,
   "metadata": {},
   "outputs": [],
   "source": [
    "grid_pred = grid.predict(X_test)"
   ]
  },
  {
   "cell_type": "code",
   "execution_count": 39,
   "metadata": {},
   "outputs": [
    {
     "name": "stdout",
     "output_type": "stream",
     "text": [
      "[[14211     0]\n",
      " [   30     0]]\n",
      "\n",
      "\n",
      "              precision    recall  f1-score   support\n",
      "\n",
      "           0       1.00      1.00      1.00     14211\n",
      "           1       0.00      0.00      0.00        30\n",
      "\n",
      "    accuracy                           1.00     14241\n",
      "   macro avg       0.50      0.50      0.50     14241\n",
      "weighted avg       1.00      1.00      1.00     14241\n",
      "\n"
     ]
    }
   ],
   "source": [
    "print(confusion_matrix(y_test,grid_pred))\n",
    "print('\\n')\n",
    "print(classification_report(y_test,grid_pred))"
   ]
  },
  {
   "cell_type": "code",
   "execution_count": null,
   "metadata": {},
   "outputs": [],
   "source": []
  },
  {
   "cell_type": "code",
   "execution_count": null,
   "metadata": {},
   "outputs": [],
   "source": []
  },
  {
   "cell_type": "code",
   "execution_count": null,
   "metadata": {},
   "outputs": [],
   "source": []
  },
  {
   "cell_type": "code",
   "execution_count": null,
   "metadata": {},
   "outputs": [],
   "source": []
  },
  {
   "cell_type": "code",
   "execution_count": null,
   "metadata": {},
   "outputs": [],
   "source": []
  },
  {
   "cell_type": "code",
   "execution_count": null,
   "metadata": {},
   "outputs": [],
   "source": []
  }
 ],
 "metadata": {
  "kernelspec": {
   "display_name": "Python 3",
   "language": "python",
   "name": "python3"
  },
  "language_info": {
   "codemirror_mode": {
    "name": "ipython",
    "version": 3
   },
   "file_extension": ".py",
   "mimetype": "text/x-python",
   "name": "python",
   "nbconvert_exporter": "python",
   "pygments_lexer": "ipython3",
   "version": "3.6.5"
  }
 },
 "nbformat": 4,
 "nbformat_minor": 2
}
